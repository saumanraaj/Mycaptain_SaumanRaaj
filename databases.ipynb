{
  "nbformat": 4,
  "nbformat_minor": 0,
  "metadata": {
    "colab": {
      "name": "databases.ipynb",
      "provenance": [],
      "collapsed_sections": [],
      "authorship_tag": "ABX9TyOTeb2XbKTk2VIPHZHay9Vs",
      "include_colab_link": true
    },
    "kernelspec": {
      "name": "python3",
      "display_name": "Python 3"
    },
    "language_info": {
      "name": "python"
    }
  },
  "cells": [
    {
      "cell_type": "markdown",
      "metadata": {
        "id": "view-in-github",
        "colab_type": "text"
      },
      "source": [
        "<a href=\"https://colab.research.google.com/github/saumanraaj/Mycaptain_SaumanRaaj/blob/main/databases.ipynb\" target=\"_parent\"><img src=\"https://colab.research.google.com/assets/colab-badge.svg\" alt=\"Open In Colab\"/></a>"
      ]
    },
    {
      "cell_type": "code",
      "metadata": {
        "id": "brZig01zBs09"
      },
      "source": [
        "#to install this library to store data in a database use command pip install db-sqlite3\n",
        "import sqlite3\n",
        "def connect(dbname):\n",
        "  conn=sqlite3.connect(dbname) #connecting and creating a database file named oyo returns connection object(to do operations with sql u have to do it with the help of this connection object)\n",
        "  conn.execute(\"CREATE TABLE IF NOT EXISTS OYO_HOTELS (NAME TEXT,ADDRESS TEXT,PRICE INT,AMNITIES TEXT,RATING TEXT)\") #this sql query creates a table in the database if it doesn't exist to store values\n",
        "  print(\"table created succesfully\")\n",
        "  conn.close()#closing the connection to the database\n",
        "\n",
        "#this connection objects are important as they can be used to excecute sql queries\n",
        "#sql is a language to communicate with databases\n",
        "# this table has header as mentioned in () in the next line\n",
        "def insert_into_table(dbname,values):\n",
        "  conn=sqlite3.connect(dbname)\n",
        "  insert_sql=\"INSERT INTO OYO_HOTELS (NAME,ADDRESS,PRICE,AMNITIES,RATING)VALUES(?,?,?,?,?)\" #entering values into table\n",
        "  conn.execute(insert_sql,values)\n",
        "  conn.commit()\n",
        "  conn.close()\n",
        "#here the ? specifies the value to be got from the webscrapping program during run time\n",
        "\n",
        "def get_hotel_info(dbname):\n",
        "  cur = conn.cursor() #creating a cursor object  for using selection sql queries\n",
        "  #this cursor object is used to retieve data from the table\n",
        "  cur.execute(\"SELECT*FROM OYO_HOTELS\")\n",
        "  table_data=cur.fetchall()# reteriving data\n",
        "  for record in table_data:\n",
        "    print(record) #printing the data\n",
        "  conn.close()\n",
        "\n",
        "# IN THESE SQL DATABASES WE HAVE 3 STEPS\n",
        "#creation of connection object and creation of database table using this connection object\n",
        "#inserting values into the table\n",
        "#retrieving values from table using cursor object"
      ],
      "execution_count": null,
      "outputs": []
    },
    {
      "cell_type": "code",
      "metadata": {
        "id": "n0xX-Kn3NHoa"
      },
      "source": [
        ""
      ],
      "execution_count": null,
      "outputs": []
    }
  ]
}